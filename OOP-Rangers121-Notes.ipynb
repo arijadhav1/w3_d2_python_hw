{
 "cells": [
  {
   "cell_type": "markdown",
   "metadata": {},
   "source": [
    "# Object-Oriented-Programming (OOP)"
   ]
  },
  {
   "cell_type": "markdown",
   "metadata": {},
   "source": [
    "## Tasks Today:\n",
    "\n",
    "   \n",
    "\n",
    "1) <b>Creating a Class (Initializing/Declaring)</b> <br>\n",
    "2) <b>Using a Class (Instantiating)</b> <br>\n",
    " &nbsp;&nbsp;&nbsp;&nbsp; a) Creating One Instance <br>\n",
    " &nbsp;&nbsp;&nbsp;&nbsp; b) Creating Multiple Instances <br>\n",
    " &nbsp;&nbsp;&nbsp;&nbsp; c) In-Class Exercise #1 - Create a Class 'Car' and instantiate three different makes of cars <br>\n",
    "3) <b>The \\__init\\__() Method</b> <br>\n",
    " &nbsp;&nbsp;&nbsp;&nbsp; a) The 'self' Attribute <br>\n",
    "4) <b>Class Attributes</b> <br>\n",
    " &nbsp;&nbsp;&nbsp;&nbsp; a) Initializing Attributes <br>\n",
    " &nbsp;&nbsp;&nbsp;&nbsp; b) Setting an Attribute Outside of the \\__init\\__() Method <br>\n",
    " &nbsp;&nbsp;&nbsp;&nbsp; c) Setting Defaults for Attributes <br>\n",
    " &nbsp;&nbsp;&nbsp;&nbsp; d) Accessing Class Attributes <br>\n",
    " &nbsp;&nbsp;&nbsp;&nbsp; e) Changing Class Attributes <br>\n",
    " &nbsp;&nbsp;&nbsp;&nbsp; f) In-Class Exercise #2 - Add a color and wheels attribute to your 'Car' class <br>\n",
    "5) <b>Class Methods</b> <br>\n",
    " &nbsp;&nbsp;&nbsp;&nbsp; a) Creating <br>\n",
    " &nbsp;&nbsp;&nbsp;&nbsp; b) Calling <br>\n",
    " &nbsp;&nbsp;&nbsp;&nbsp; c) Modifying an Attribute's Value Through a Method <br>\n",
    " &nbsp;&nbsp;&nbsp;&nbsp; d) Incrementing an Attribute's Value Through a Method <br>\n",
    " &nbsp;&nbsp;&nbsp;&nbsp; e) In-Class Exercise #3 - Add a method that prints the cars color and wheel number, then call them <br>\n",
    "6) <b>Inheritance</b> <br>\n",
    " &nbsp;&nbsp;&nbsp;&nbsp; a) Syntax for Inheriting from a Parent Class <br>\n",
    " &nbsp;&nbsp;&nbsp;&nbsp; b) The \\__init\\__() Method for a Child Class (super()) <br>\n",
    " &nbsp;&nbsp;&nbsp;&nbsp; c) Defining Attributes and Methods for the Child Class <br>\n",
    " &nbsp;&nbsp;&nbsp;&nbsp; d) Method Overriding <br>\n",
    " &nbsp;&nbsp;&nbsp;&nbsp; e) In-Class Exercise #4 - Create a class 'Ford' that inherits from 'Car' class and initialize it as a Blue Ford Explorer with 4 wheels using the super() method <br>\n",
    "7) <b>Classes as Attributes</b> <br>\n",
    "8) <b>Exercises</b> <br>\n",
    " &nbsp;&nbsp;&nbsp;&nbsp; a) Exercise #1 - Turn the shopping cart program from last week into an object-oriented program <br>"
   ]
  },
  {
   "cell_type": "markdown",
   "metadata": {},
   "source": [
    "## Creating a Class (Initializing/Declaring)\n",
    "<p>When creating a class, function, or even a variable you are initializing that object. Initializing and Declaring occur at the same time in Python, whereas in lower level languages you have to declare an object before initializing it. This is the first step in the process of using a class.</p>"
   ]
  },
  {
   "cell_type": "code",
   "execution_count": 1,
   "metadata": {},
   "outputs": [],
   "source": [
    "class Car():\n",
    "    wheels = 4\n",
    "    color = \"blue\""
   ]
  },
  {
   "cell_type": "markdown",
   "metadata": {},
   "source": [
    "## Using a Class (Instantiating)\n",
    "<p>The process of creating a class is called <i>Instantiating</i>. Each time you create a variable of that type of class, it is referred to as an <i>Instance</i> of that class. This is the second step in the process of using a class.</p>"
   ]
  },
  {
   "cell_type": "markdown",
   "metadata": {},
   "source": [
    "##### Creating One Instance"
   ]
  },
  {
   "cell_type": "code",
   "execution_count": 3,
   "metadata": {},
   "outputs": [
    {
     "name": "stdout",
     "output_type": "stream",
     "text": [
      "4\n",
      "blue\n"
     ]
    }
   ],
   "source": [
    "ford = Car()\n",
    "print(ford.wheels)\n",
    "print(ford.color)"
   ]
  },
  {
   "cell_type": "markdown",
   "metadata": {},
   "source": [
    "##### Creating Multiple Instances"
   ]
  },
  {
   "cell_type": "code",
   "execution_count": 4,
   "metadata": {},
   "outputs": [
    {
     "name": "stdout",
     "output_type": "stream",
     "text": [
      "blue\n",
      "blue\n",
      "blue\n"
     ]
    }
   ],
   "source": [
    "mazda = Car()\n",
    "honda = Car()\n",
    "chevy = Car()\n",
    "\n",
    "print(mazda.color)\n",
    "print(honda.color)\n",
    "print(chevy.color)"
   ]
  },
  {
   "cell_type": "markdown",
   "metadata": {},
   "source": [
    "##### In-Class Exercise #1 - Create a Class 'Car' and Instantiate three different makes of cars"
   ]
  },
  {
   "cell_type": "code",
   "execution_count": 5,
   "metadata": {},
   "outputs": [],
   "source": [
    "class Car():\n",
    "    wheels = 4\n",
    "    color = \"red\"\n",
    "    steering_wheel = \"left\"\n",
    "    seats = 5\n",
    "    car_type = \"sedan\""
   ]
  },
  {
   "cell_type": "code",
   "execution_count": 6,
   "metadata": {},
   "outputs": [
    {
     "name": "stdout",
     "output_type": "stream",
     "text": [
      "left\n"
     ]
    }
   ],
   "source": [
    "toyota = Car()\n",
    "print(toyota.steering_wheel)"
   ]
  },
  {
   "cell_type": "code",
   "execution_count": 7,
   "metadata": {},
   "outputs": [
    {
     "name": "stdout",
     "output_type": "stream",
     "text": [
      "sedan\n"
     ]
    }
   ],
   "source": [
    "tesla = Car()\n",
    "print(tesla.car_type)"
   ]
  },
  {
   "cell_type": "code",
   "execution_count": 8,
   "metadata": {},
   "outputs": [
    {
     "name": "stdout",
     "output_type": "stream",
     "text": [
      "5\n"
     ]
    }
   ],
   "source": [
    "bmw = Car()\n",
    "print(tesla.seats)\n"
   ]
  },
  {
   "cell_type": "markdown",
   "metadata": {},
   "source": [
    "## The \\__init\\__() Method <br>\n",
    "<p>This method is used in almost every created class, and called only once upon the creation of the class instance. This method will initialize all variables needed for the object.</p>"
   ]
  },
  {
   "cell_type": "code",
   "execution_count": 12,
   "metadata": {},
   "outputs": [
    {
     "name": "stdout",
     "output_type": "stream",
     "text": [
      "4\n",
      "blue\n",
      "4\n",
      "red\n",
      "5\n"
     ]
    }
   ],
   "source": [
    "class Car():\n",
    "    def __init__(self, wheels, color, doors):\n",
    "        self.wheels = wheels\n",
    "        self.color = color\n",
    "        self.doors = doors\n",
    "        \n",
    "mazda = Car(4, \"blue\", 4)\n",
    "print(mazda.wheels)\n",
    "print(mazda.color)\n",
    "print(mazda.doors)\n",
    "\n",
    "honda = Car(4, \"red\", 5)\n",
    "print(honda.color)\n",
    "print(honda.doors)"
   ]
  },
  {
   "cell_type": "markdown",
   "metadata": {},
   "source": [
    "##### The 'self' Attribute <br>\n",
    "<p>This attribute is required to keep track of specific instance's attributes. Without the self attribute, the program would not know how to reference or keep track of an instance's attributes.</p>"
   ]
  },
  {
   "cell_type": "code",
   "execution_count": 27,
   "metadata": {},
   "outputs": [
    {
     "name": "stdout",
     "output_type": "stream",
     "text": [
      "Charmander\n",
      "fire\n",
      "This is Charmander. It is a fire type\n",
      "Squirtle\n",
      "water\n",
      "This is Squirtle. It is a water type\n",
      "Charmander\n",
      "This is Charmander. It is a fire type\n",
      "test\n",
      "reee\n",
      "This is test. It is a reee type\n",
      "<__main__.Pokemon object at 0x000001F63CA6A9B0>\n"
     ]
    }
   ],
   "source": [
    "class Pokemon():\n",
    "    def __init__(self, name, type_):\n",
    "        #self is going to reference back to the object \n",
    "        self.name = name\n",
    "        self.type = type_\n",
    "        print(self.name)\n",
    "        print(self.type)\n",
    "        self.print_info()\n",
    "        \n",
    "    def print_info(self):\n",
    "        print(f\"This is {self.name}. It is a {self.type} type\")\n",
    "        \n",
    "charmander = Pokemon(\"Charmander\", \"fire\")\n",
    "squirtle = Pokemon(\"Squirtle\", \"water\")\n",
    "\n",
    "print(charmander.name)\n",
    "\n",
    "charmander.print_info()\n",
    "\n",
    "test = Pokemon(\"test\", \"reee\")\n",
    "print(test)\n",
    "\n",
    "#test = test.__init__(\"test2\", \"hello\")\n",
    "#print(test)"
   ]
  },
  {
   "cell_type": "markdown",
   "metadata": {},
   "source": [
    "## Class Attributes <br>\n",
    "<p>While variables are inside of a class, they are referred to as attributes and not variables. When someone says 'attribute' you know they're speaking about a class. Attributes can be initialized through the init method, or outside of it.</p>"
   ]
  },
  {
   "cell_type": "markdown",
   "metadata": {},
   "source": [
    "##### Initializing Attributes"
   ]
  },
  {
   "cell_type": "code",
   "execution_count": 24,
   "metadata": {},
   "outputs": [
    {
     "name": "stdout",
     "output_type": "stream",
     "text": [
      "This is Bulbasaur. It is a grass type\n"
     ]
    }
   ],
   "source": [
    "class Pokemon():\n",
    "    def __init__(self, name, type_):\n",
    "        #self is going to reference back to the object \n",
    "        self.name = name\n",
    "        self.type = type_\n",
    "        self.print_info()\n",
    "        #print(self.name)\n",
    "        #print(self.type)\n",
    "        \n",
    "    def print_info(self):\n",
    "        print(f\"This is {self.name}. It is a {self.type} type\")\n",
    "        \n",
    "\n",
    "\n",
    "\n",
    "bulbasaur = Pokemon(\"Bulbasaur\", \"grass\")\n"
   ]
  },
  {
   "cell_type": "markdown",
   "metadata": {},
   "source": [
    "##### Accessing Class Attributes"
   ]
  },
  {
   "cell_type": "code",
   "execution_count": 23,
   "metadata": {
    "scrolled": true
   },
   "outputs": [
    {
     "name": "stdout",
     "output_type": "stream",
     "text": [
      "Bulbasaur\n",
      "grass\n",
      "{'name': 'Bulbasaur', 'type': 'grass'}\n",
      "['__class__', '__delattr__', '__dict__', '__dir__', '__doc__', '__eq__', '__format__', '__ge__', '__getattribute__', '__gt__', '__hash__', '__init__', '__init_subclass__', '__le__', '__lt__', '__module__', '__ne__', '__new__', '__reduce__', '__reduce_ex__', '__repr__', '__setattr__', '__sizeof__', '__str__', '__subclasshook__', '__weakref__', 'name', 'print_info', 'type']\n"
     ]
    }
   ],
   "source": [
    "print(bulbasaur.name)\n",
    "print(bulbasaur.type)\n",
    "\n",
    "print(bulbasaur.__dict__)\n",
    "print(dir(bulbasaur))"
   ]
  },
  {
   "cell_type": "markdown",
   "metadata": {},
   "source": [
    "##### Setting Defaults for Attributes"
   ]
  },
  {
   "cell_type": "code",
   "execution_count": 29,
   "metadata": {},
   "outputs": [
    {
     "name": "stdout",
     "output_type": "stream",
     "text": [
      "4\n",
      "Blue\n"
     ]
    }
   ],
   "source": [
    "class Car():\n",
    "    def __init__(self, wheels):\n",
    "        self.wheels = wheels\n",
    "        self.color = \"Blue\"\n",
    "        \n",
    "honda = Car(4)\n",
    "print(honda.wheels)\n",
    "print(honda.color)"
   ]
  },
  {
   "cell_type": "code",
   "execution_count": 31,
   "metadata": {},
   "outputs": [
    {
     "name": "stdout",
     "output_type": "stream",
     "text": [
      "4\n",
      "Red\n",
      "Yellow\n"
     ]
    }
   ],
   "source": [
    "class Car():\n",
    "    def __init__(self, wheels, color = \"Red\"):\n",
    "        self.wheels = wheels\n",
    "        self.color = color\n",
    "        \n",
    "ford = Car(4)\n",
    "print(ford.wheels)\n",
    "print(ford.color)\n",
    "\n",
    "mazda = Car(4, \"Yellow\")\n",
    "print(mazda.color)"
   ]
  },
  {
   "cell_type": "markdown",
   "metadata": {},
   "source": [
    "##### Changing Class Attributes <br>\n",
    "<p>Keep in mind there are global class attributes and then there are attributes only available to each class instance which won't effect other classes.</p>"
   ]
  },
  {
   "cell_type": "code",
   "execution_count": 34,
   "metadata": {},
   "outputs": [
    {
     "name": "stdout",
     "output_type": "stream",
     "text": [
      "4\n",
      "Blue\n",
      "Before attribute change Blue\n",
      "After attribute change orange\n",
      "4\n",
      "6\n"
     ]
    }
   ],
   "source": [
    "class Car():\n",
    "    def __init__(self, wheels):\n",
    "        self.wheels = wheels\n",
    "        self.color = \"Blue\"\n",
    "        \n",
    "honda = Car(4)\n",
    "print(honda.wheels)\n",
    "print(honda.color)\n",
    "\n",
    "#subaru = Car(4, \"orange\") <--- gives type error for too many arguments\n",
    "\n",
    "subaru = Car(4)\n",
    "print(f\"Before attribute change {subaru.color}\")\n",
    "subaru.color = \"orange\"\n",
    "print(f\"After attribute change {subaru.color}\")\n",
    "print(subaru.wheels)\n",
    "subaru.wheels = 6\n",
    "print(subaru.wheels)"
   ]
  },
  {
   "cell_type": "code",
   "execution_count": null,
   "metadata": {},
   "outputs": [],
   "source": []
  },
  {
   "cell_type": "markdown",
   "metadata": {},
   "source": [
    "##### In-Class Exercise #2 - Add two new attributes to your 'Car' class then print out two different instances with different doors and seats. Then take that bad boy to the shop and change those attributes. Either with an input or just by changing them"
   ]
  },
  {
   "cell_type": "code",
   "execution_count": 41,
   "metadata": {},
   "outputs": [
    {
     "name": "stdout",
     "output_type": "stream",
     "text": [
      "4\n",
      "4\n",
      "5\n",
      "orange\n",
      "4\n",
      "2\n",
      "2\n",
      "7\n",
      "blue\n"
     ]
    }
   ],
   "source": [
    "class Car():\n",
    "    def __init__(self, wheels, doors, seats, color = \"orange\"):\n",
    "        self.wheels = wheels\n",
    "        self.doors = doors\n",
    "        self.seats = seats\n",
    "        self.color = color\n",
    "        \n",
    "toyota = Car(4, 4, 5)\n",
    "print(toyota.wheels)\n",
    "print(toyota.doors)\n",
    "print(toyota.seats)\n",
    "print(toyota.color)\n",
    "\n",
    "bmw = Car(4, 2, 2)\n",
    "print(bmw.wheels)\n",
    "print(bmw.doors)\n",
    "print(bmw.seats)\n",
    "\n",
    "toyota.seats = 7\n",
    "toyota.color = \"blue\"\n",
    "\n",
    "print(toyota.seats)\n",
    "print(toyota.color)"
   ]
  },
  {
   "cell_type": "markdown",
   "metadata": {},
   "source": [
    "## Class Methods <br>\n",
    "<p>While inside of a class, functions are referred to as 'methods'. If you hear someone mention methods, they're speaking about classes. Methods are essentially functions, but only callable on the instances of a class.</p>"
   ]
  },
  {
   "cell_type": "markdown",
   "metadata": {},
   "source": [
    "##### Creating"
   ]
  },
  {
   "cell_type": "code",
   "execution_count": 43,
   "metadata": {},
   "outputs": [],
   "source": [
    "class Bus():\n",
    "    \"\"\"\n",
    "    The Bus will have doors, seats, seats available, color, and a bus driver\n",
    "    Attributes for the bus\n",
    "    -doors: integer\n",
    "    -seats: integer\n",
    "    -seats_available: integer\n",
    "    -color: string\n",
    "    -bus_driver: string\n",
    "    \"\"\"\n",
    "    def __init__(self, doors, seats, seats_available, color, bus_driver):\n",
    "        self.doors = doors\n",
    "        self.seats = seats\n",
    "        self.seats_available = seats_available\n",
    "        self.color = color\n",
    "        self.bus_driver = bus_driver\n",
    "        \n",
    "        #decrement the number of seats available\n",
    "        def load_passengers(self):\n",
    "            if self.seats_available <= 0:\n",
    "                print(\"This bus is full! You can't take anymore passengers! :(\")\n",
    "                if self.seats_available < 0:\n",
    "                    print(f\"You left {abs(self.seats_available)} by the road! \")\n",
    "                    self.seats_available = 0\n",
    "            else:\n",
    "                passengers = int(input(\"How many passengers are getting on? \"))\n",
    "                self.seats_available -= passengers\n",
    "                if self.seats_available < 0:\n",
    "                    print(f\"You have left {abs(self.seats_available)} by the road! \")\n",
    "                    self.seats_available = 0\n",
    "                print(f\"{passengers} passengers have boarded. There are {self.seats_available} seats left on the bus! \")\n",
    "                \n",
    "    \n",
    "        #increment the number of seats available \n",
    "        def unload_passengers(self):\n",
    "            if self.seats_available >= self.seats:\n",
    "                print(\"There is no one left to get off the bus! \")\n",
    "            else:\n",
    "                unload = int(input(\"How many passengers are getting off the bus? \"))\n",
    "                self.seats_available += unload\n",
    "                if self.seats_available >= self.seats:\n",
    "                    self.seats_available = self.seats\n",
    "                    \n",
    "                print(f\"{unload} passengers have left the bus! There are {self.seats_available} seats left on the bus!\")\n",
    "                \n",
    "        #change the bus driver attribute\n",
    "        def change_driver(self):\n",
    "            change = input(\"Who is replacing you? \")\n",
    "            self.bus_driver = change\n",
    "            print(f\"The new bus driver is {self.bus_driver}. Be sure to thank them!\")\n",
    "            \n",
    "            \n",
    "        #display available seats\n",
    "        def check_seats(self):\n",
    "            print(f\"There are {self.seats_available} seats available\")\n",
    "            \n",
    "        #display bus color\n",
    "        def admire_bus(self):\n",
    "            print(f\"Would ya just look at that beautiful {self.color} bus!\")"
   ]
  },
  {
   "cell_type": "markdown",
   "metadata": {},
   "source": [
    "##### Calling"
   ]
  },
  {
   "cell_type": "code",
   "execution_count": 45,
   "metadata": {},
   "outputs": [
    {
     "name": "stdout",
     "output_type": "stream",
     "text": [
      "What would you like to do? Load/Unload/Change Driver/Check Seats/Admire Bus/Quit? load\n"
     ]
    },
    {
     "ename": "AttributeError",
     "evalue": "'Bus' object has no attribute 'load_passengers'",
     "output_type": "error",
     "traceback": [
      "\u001b[1;31m---------------------------------------------------------------------------\u001b[0m",
      "\u001b[1;31mAttributeError\u001b[0m                            Traceback (most recent call last)",
      "Cell \u001b[1;32mIn[45], line 23\u001b[0m\n\u001b[0;32m     20\u001b[0m         \u001b[38;5;28;01melse\u001b[39;00m:\n\u001b[0;32m     21\u001b[0m             \u001b[38;5;28mprint\u001b[39m(\u001b[38;5;124m\"\u001b[39m\u001b[38;5;124mThat is not a valid response! Please pic from the list!\u001b[39m\u001b[38;5;124m\"\u001b[39m)\n\u001b[1;32m---> 23\u001b[0m \u001b[43mrun\u001b[49m\u001b[43m(\u001b[49m\u001b[43m)\u001b[49m\n",
      "Cell \u001b[1;32mIn[45], line 11\u001b[0m, in \u001b[0;36mrun\u001b[1;34m()\u001b[0m\n\u001b[0;32m      9\u001b[0m     \u001b[38;5;28;01mbreak\u001b[39;00m\n\u001b[0;32m     10\u001b[0m \u001b[38;5;28;01melif\u001b[39;00m response \u001b[38;5;241m==\u001b[39m \u001b[38;5;124m\"\u001b[39m\u001b[38;5;124mload\u001b[39m\u001b[38;5;124m\"\u001b[39m:\n\u001b[1;32m---> 11\u001b[0m     \u001b[43mryan_bus\u001b[49m\u001b[38;5;241;43m.\u001b[39;49m\u001b[43mload_passengers\u001b[49m()\n\u001b[0;32m     12\u001b[0m \u001b[38;5;28;01melif\u001b[39;00m response \u001b[38;5;241m==\u001b[39m \u001b[38;5;124m\"\u001b[39m\u001b[38;5;124munload\u001b[39m\u001b[38;5;124m\"\u001b[39m:\n\u001b[0;32m     13\u001b[0m     ryan_bus\u001b[38;5;241m.\u001b[39munload_passengers()\n",
      "\u001b[1;31mAttributeError\u001b[0m: 'Bus' object has no attribute 'load_passengers'"
     ]
    }
   ],
   "source": [
    "# instance_variable.method()\n",
    "def run():\n",
    "    ryan_bus = Bus(2, 90, 45, \"yellow\", \"Ryan\")\n",
    "    \n",
    "    while True:\n",
    "        response = input(\"What would you like to do? Load/Unload/Change Driver/Check Seats/Admire Bus/Quit? \").lower()\n",
    "        if response == 'quit':\n",
    "            print(\"There are still passengers waiting!\")\n",
    "            break\n",
    "        elif response == \"load\":\n",
    "            ryan_bus.load_passengers()\n",
    "        elif response == \"unload\":\n",
    "            ryan_bus.unload_passengers()\n",
    "        elif response == \"change driver\":\n",
    "            ryan_bus.change_driver()\n",
    "        elif response == \"check seats\":\n",
    "            ryan_bus.check_seats()\n",
    "        elif response == \"admire\":\n",
    "            ryan_bus.admire_bus()\n",
    "        else:\n",
    "            print(\"That is not a valid response! Please pic from the list!\")\n",
    "            \n",
    "run()"
   ]
  },
  {
   "cell_type": "markdown",
   "metadata": {},
   "source": [
    "##### Modifying an Attribute's Value Through a Method"
   ]
  },
  {
   "cell_type": "code",
   "execution_count": null,
   "metadata": {},
   "outputs": [],
   "source": [
    "# see above\n",
    "# load_passengers()\n",
    "# unload_passengers()\n",
    "# change_driver()"
   ]
  },
  {
   "cell_type": "markdown",
   "metadata": {},
   "source": [
    "##### Incrementing an Attribute's Value Through a Method"
   ]
  },
  {
   "cell_type": "code",
   "execution_count": null,
   "metadata": {},
   "outputs": [],
   "source": [
    "#unload_passengers()"
   ]
  },
  {
   "cell_type": "markdown",
   "metadata": {},
   "source": [
    "##### In-Class Exercise #3 - Add a method that takes in three parameters of year, doors and seats and prints out a formatted print statement with make, model, year, seats, and doors"
   ]
  },
  {
   "cell_type": "code",
   "execution_count": 53,
   "metadata": {},
   "outputs": [],
   "source": [
    "# Create class with 2 paramters inside of the __init__ which are make and model, more if you'd like\n",
    "\n",
    "# Create two methods for your class\n",
    "\n",
    "# Create a method that alters an attribute for your class\n",
    "\n",
    "# Display method that prints information about the vehicle\n",
    "\n",
    "# Output: This car is from 2019 and is a Ford Expolorer and has 4 doors and 5 seats\n",
    "\n",
    "# reminder in order to call class methods object.method()\n",
    "\n",
    "class Car():\n",
    "    def __init__(self, make, model):\n",
    "        self.make = make\n",
    "        self.model = model\n",
    "        \n",
    "    \n",
    "    def change_model(self):\n",
    "        mode = input(f\"Which model would you like to switch your car to? Your current model is a {self.model} \")\n",
    "        self.model = mode\n",
    "        print(f\"Thank you! Your new model is a {self.model}! \")\n",
    "    \n",
    "    def display_info(self):\n",
    "        print(f\"Your current car is a {self.make} {self.model}! Wow what a nice car! \")\n",
    "\n",
    "        \n",
    "\n"
   ]
  },
  {
   "cell_type": "code",
   "execution_count": 54,
   "metadata": {},
   "outputs": [
    {
     "name": "stdout",
     "output_type": "stream",
     "text": [
      "What would you like to do? The options are: change model, display info, or quit. camr\n",
      "Not a response, try again! \n",
      "What would you like to do? The options are: change model, display info, or quit. change model\n",
      "Which model would you like to switch your car to? Your current model is a prius camry\n",
      "Thank you! Your new model is a camry! \n",
      "What would you like to do? The options are: change model, display info, or quit. display info\n",
      "Your current car is a toyota camry! Wow what a nice car! \n",
      "What would you like to do? The options are: change model, display info, or quit. quit\n"
     ]
    }
   ],
   "source": [
    "def run():\n",
    "    aricar = Car(\"toyota\", \"prius\")\n",
    "    \n",
    "    while True:\n",
    "        response = input(\"What would you like to do? The options are: change model, display info, or quit. \").lower()\n",
    "        \n",
    "        if response == \"change model\":\n",
    "            aricar.change_model()\n",
    "        elif response == \"display info\":\n",
    "            aricar.display_info()\n",
    "        elif response == \"quit\":\n",
    "            break\n",
    "        else:\n",
    "            print(\"Not a response, try again! \")\n",
    "            \n",
    "run()"
   ]
  },
  {
   "cell_type": "markdown",
   "metadata": {},
   "source": [
    "## Inheritance <br>\n",
    "<p>You can create a child-parent relationship between two classes by using inheritance. What this allows you to do is have overriding methods, but also inherit traits from the parent class. Think of it as an actual parent and child, the child will inherit the parent's genes, as will the classes in OOP</p>"
   ]
  },
  {
   "cell_type": "markdown",
   "metadata": {},
   "source": [
    "##### Syntax for Inheriting from a Parent Class"
   ]
  },
  {
   "cell_type": "code",
   "execution_count": 80,
   "metadata": {},
   "outputs": [],
   "source": [
    "# create a parent class\n",
    "class Animal():\n",
    "    acceleration = 9.8\n",
    "    def __init__(self, name, species, legs = 4):\n",
    "        self.name = name\n",
    "        self.species = species\n",
    "        self.legs = legs\n",
    "        \n",
    "    #generic parent method\n",
    "    def make_sound(self):\n",
    "        print('WAAAAAAAHHHHHH')\n",
    "        \n",
    "#creating child class that inherits from Animal\n",
    "class Dog(Animal): #<-- inherited parent class goes in parentheses\n",
    "    speed = 15\n",
    "    def __init__(self, name, species, legs, color):\n",
    "        super().__init__(name, species, legs) #passes over attributes from the parent class\n",
    "        self.color = color #attribute unique to the child class\n",
    "    \n",
    "    def print_info(self):\n",
    "        print(f\"{self.name} runs at {self.speed} mph and accelerates at {self.acceleration} mps^2\")\n",
    "        \n",
    "class Mutt(Dog):\n",
    "    hypoallergenic = True\n",
    "    \n",
    "    def __init__(self, name, species, eye_color, color, legs):\n",
    "        Dog.__init__(self, name, species, legs, color)\n",
    "        self.eye_color = eye_color\n",
    "        \n",
    "    def make_sound(self): #overwrites the Animal make_sound method\n",
    "        print(\"ROOOOOOOO\")"
   ]
  },
  {
   "cell_type": "code",
   "execution_count": 57,
   "metadata": {},
   "outputs": [
    {
     "name": "stdout",
     "output_type": "stream",
     "text": [
      "Jimbo\n",
      "WAAAAAAAHHHHHH\n"
     ]
    }
   ],
   "source": [
    "elephant = Animal(\"Jimbo\", \"elephant\")\n",
    "print(elephant.name)\n",
    "elephant.make_sound()\n",
    "print(elephant.legs)\n"
   ]
  },
  {
   "cell_type": "code",
   "execution_count": 76,
   "metadata": {},
   "outputs": [
    {
     "name": "stdout",
     "output_type": "stream",
     "text": [
      "Thea\n",
      "WAAAAAAAHHHHHH\n",
      "Thea runs at 15 mph and accelerates at 9.8 mps^2\n"
     ]
    }
   ],
   "source": [
    "thea = Dog(\"Thea\", \"Pit\", 4, \"Brown\")\n",
    "print(thea.name)\n",
    "thea.make_sound()\n",
    "thea.print_info()\n",
    "\n"
   ]
  },
  {
   "cell_type": "code",
   "execution_count": 84,
   "metadata": {},
   "outputs": [
    {
     "name": "stdout",
     "output_type": "stream",
     "text": [
      "True\n",
      "False\n",
      "ROOOOOOOO\n",
      "brown\n"
     ]
    }
   ],
   "source": [
    "orion = Mutt(\"Orion\", \"Mut\", \"brown\", \"black and white\", 4)\n",
    "print(orion.hypoallergenic)\n",
    "orion.hypoallergenic = False\n",
    "print(orion.hypoallergenic)\n",
    "orion.make_sound()\n",
    "print(orion.eye_color)"
   ]
  },
  {
   "cell_type": "markdown",
   "metadata": {},
   "source": [
    "##### The \\__init\\__() Method for a Child Class - super()"
   ]
  },
  {
   "cell_type": "code",
   "execution_count": null,
   "metadata": {
    "scrolled": true
   },
   "outputs": [],
   "source": []
  },
  {
   "cell_type": "markdown",
   "metadata": {},
   "source": [
    "##### Defining Attributes and Methods for the Child Class"
   ]
  },
  {
   "cell_type": "code",
   "execution_count": null,
   "metadata": {},
   "outputs": [],
   "source": [
    "# See Above"
   ]
  },
  {
   "cell_type": "markdown",
   "metadata": {},
   "source": [
    "##### Method Overriding"
   ]
  },
  {
   "cell_type": "code",
   "execution_count": null,
   "metadata": {},
   "outputs": [],
   "source": [
    "# See Above"
   ]
  },
  {
   "cell_type": "markdown",
   "metadata": {},
   "source": [
    "## Classes as Attributes <br>\n",
    "<p>Classes can also be used as attributes within another class. This is useful in situations where you need to keep variables locally stored, instead of globally stored.</p>"
   ]
  },
  {
   "cell_type": "code",
   "execution_count": 89,
   "metadata": {},
   "outputs": [
    {
     "name": "stdout",
     "output_type": "stream",
     "text": [
      "2023 Porsche 911 Turbo 20\n"
     ]
    }
   ],
   "source": [
    "class Battery():\n",
    "    VOLTZ = 7.8\n",
    "    \n",
    "    def __init__(self, cells):\n",
    "        self.cells = cells\n",
    "        \n",
    "    def __repr__(self):\n",
    "        return str(self.cells)\n",
    "        \n",
    "class Car():\n",
    "    def __init__(self, make, model, year, battery):\n",
    "        self.make = make\n",
    "        self.model = model\n",
    "        self.year = year\n",
    "        self.battery = battery\n",
    "        \n",
    "    def print_info(self):\n",
    "        print(f\"{self.year} {self.make} {self.model} {self.battery}\")\n",
    "        \n",
    "    \n",
    "        \n",
    "batt = Battery(20)\n",
    "\n",
    "porsche = Car(\"Porsche\", \"911 Turbo\", 2023, batt)\n",
    "\n",
    "porsche.print_info()"
   ]
  },
  {
   "cell_type": "markdown",
   "metadata": {},
   "source": [
    "## Classes as Attributes <br>"
   ]
  },
  {
   "cell_type": "markdown",
   "metadata": {},
   "source": [
    "<b>Generators in classes</b>"
   ]
  },
  {
   "cell_type": "code",
   "execution_count": 90,
   "metadata": {},
   "outputs": [],
   "source": [
    "class Movie():\n",
    "    def __init__(self):\n",
    "        self.genres = [\"spooky\", \"adventure\", \"drama\", \"horror\", \"comedy\", \"action\", \"romance\"]\n",
    "        self.generator_object = self.yield_genres()\n",
    "        \n",
    "        \n",
    "        \n",
    "    def yield_genres(self):\n",
    "        for genre in self.genres:\n",
    "            yield genre\n",
    "        \n",
    "    def show_genres(self):\n",
    "        try:\n",
    "            return next(self.generator_object)\n",
    "        except:\n",
    "            print(\"no more genres\")\n",
    "\n",
    "my_movie = Movie()"
   ]
  },
  {
   "cell_type": "code",
   "execution_count": 98,
   "metadata": {},
   "outputs": [
    {
     "name": "stdout",
     "output_type": "stream",
     "text": [
      "no more genres\n"
     ]
    }
   ],
   "source": [
    "my_movie.show_genres()"
   ]
  },
  {
   "cell_type": "markdown",
   "metadata": {},
   "source": [
    "# Exercises"
   ]
  },
  {
   "cell_type": "markdown",
   "metadata": {},
   "source": [
    "### Exercise 1 - Turn the shopping cart program from last week into an object-oriented program\n",
    "\n",
    "The comments in the cell below are there as a guide for thinking about the problem. However, if you feel a different way is best for you and your own thought process, please do what feels best for you by all means."
   ]
  },
  {
   "cell_type": "code",
   "execution_count": 107,
   "metadata": {},
   "outputs": [],
   "source": [
    "# Create a class called cart that retains items and has methods to add, remove, and show\n",
    "\n",
    "class Cart():\n",
    "    def __init__(self, carts, person, items = []):\n",
    "        self.items = items\n",
    "        self.carts = carts\n",
    "        self.person = person\n",
    "        \n",
    "    def display_info(self):\n",
    "        print(f'At this moment, {self.person} is pushing {self.carts} carts with {self.items} inside the carts.')\n",
    "        \n",
    "    def add_items(self):\n",
    "        response = input(\"What item would you like to add?\")\n",
    "        self.items.append(response)\n",
    "        print(f'You now have {self.items} in your shopping cart!')\n",
    "    \n",
    "    def remove_items(self):\n",
    "        response = input(\"What item would you like to remove?\")\n",
    "        self.items.remove(response)\n",
    "        print(f'You now have {self.items} in your shopping cart!')\n",
    "        \n",
    "    def change_person(self):\n",
    "        response = input(\"Who is pushing the carts?\")\n",
    "        self.person = response\n",
    "        print(f'Now {self.person} is pushing the cart!')\n",
    "        \n",
    "    def num_carts(self):\n",
    "        response = input(\"How many carts are you pushing?\")\n",
    "        self.carts = response\n",
    "        print(f'You are now pushing {self.carts} carts!')\n",
    "    \n",
    "    "
   ]
  },
  {
   "cell_type": "code",
   "execution_count": 108,
   "metadata": {},
   "outputs": [
    {
     "name": "stdout",
     "output_type": "stream",
     "text": [
      "Welcome to Not-Safeway! The options are: show cart, add items, remove items, change person, number of carts, or quit.number of carts\n",
      "How many carts are you pushing?3\n",
      "You are now pushing 3 carts!\n",
      "Welcome to Not-Safeway! The options are: show cart, add items, remove items, change person, number of carts, or quit.show cart\n",
      "At this moment, Aryan is pushing 3 carts with [] inside the carts.\n",
      "Welcome to Not-Safeway! The options are: show cart, add items, remove items, change person, number of carts, or quit.q\n",
      "Not a response, try again! \n",
      "Welcome to Not-Safeway! The options are: show cart, add items, remove items, change person, number of carts, or quit.quit\n"
     ]
    }
   ],
   "source": [
    "def run():\n",
    "    aricart = Cart(1, \"Aryan\")\n",
    "    \n",
    "    while True:\n",
    "        response = input(\"Welcome to Not-Safeway! The options are: show cart, add items, remove items, change person, number of carts, or quit.\")\n",
    "        \n",
    "        if response == \"show cart\":\n",
    "            aricart.display_info()\n",
    "        elif response == \"add items\":\n",
    "            aricart.add_items()\n",
    "        elif response == \"remove items\":\n",
    "            aricart.remove_items()\n",
    "        elif response == \"change person\":\n",
    "            aricart.change_person()\n",
    "        elif response == \"number of carts\":\n",
    "            aricart.num_carts()\n",
    "        elif response == \"quit\":\n",
    "            break\n",
    "        else:\n",
    "            print(\"Not a response, try again! \")\n",
    "\n",
    "run()"
   ]
  },
  {
   "cell_type": "markdown",
   "metadata": {},
   "source": [
    "### Exercise 2 - Write a Python class which has two methods get_String and print_String. get_String accept a string from the user and print_String print the string in upper case"
   ]
  },
  {
   "cell_type": "code",
   "execution_count": 122,
   "metadata": {},
   "outputs": [],
   "source": [
    "class Stringy():\n",
    "    def __init__(self, sentence):\n",
    "        self.sentence = sentence\n",
    "    \n",
    "    def get_String(self):\n",
    "        response = input(\"Give me a sentence and I will store it!\")\n",
    "        self.sentence = response\n",
    "        print(f\"Your sentence is '{self.sentence}'\")\n",
    "        \n",
    "    def print_String(self):\n",
    "        print(f'Your sentence is now \"{self.sentence.upper()}\"')\n",
    "    "
   ]
  },
  {
   "cell_type": "code",
   "execution_count": 123,
   "metadata": {},
   "outputs": [
    {
     "name": "stdout",
     "output_type": "stream",
     "text": [
      "Please give me a sentence!hi i like pie\n",
      "Please consider the options: new sentence, print sentence, or quit.print sentence\n",
      "Your sentence is now \"HI I LIKE PIE\"\n",
      "Please consider the options: new sentence, print sentence, or quit.quit\n"
     ]
    }
   ],
   "source": [
    "def run():\n",
    "    arisentence = Stringy(input(\"Please give me a sentence!\"))\n",
    "    \n",
    "    #response = input(\"Please give me a sentence!\")\n",
    "        \n",
    "    #if response == True:\n",
    "    #    arisentence.get_String()\n",
    "    \n",
    "    while True:\n",
    "        response = input(\"Please consider the options: new sentence, print sentence, or quit.\")\n",
    "        \n",
    "        if response == \"new sentence\":\n",
    "            arisentence.get_String()\n",
    "        \n",
    "        elif response == \"print sentence\":\n",
    "            arisentence.print_String()\n",
    "        \n",
    "        elif response == \"quit\":\n",
    "            break\n",
    "            \n",
    "        else:\n",
    "            print(\"Not a response, try again! \")\n",
    "            \n",
    "run()\n",
    "            "
   ]
  }
 ],
 "metadata": {
  "kernelspec": {
   "display_name": "Python 3 (ipykernel)",
   "language": "python",
   "name": "python3"
  },
  "language_info": {
   "codemirror_mode": {
    "name": "ipython",
    "version": 3
   },
   "file_extension": ".py",
   "mimetype": "text/x-python",
   "name": "python",
   "nbconvert_exporter": "python",
   "pygments_lexer": "ipython3",
   "version": "3.10.10"
  }
 },
 "nbformat": 4,
 "nbformat_minor": 2
}
